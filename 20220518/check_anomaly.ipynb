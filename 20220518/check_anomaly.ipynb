{
 "cells": [
  {
   "cell_type": "code",
   "execution_count": null,
   "metadata": {},
   "outputs": [],
   "source": [
    "today = 20220518\n",
    "\n",
    "from colour import Color\n",
    "red = Color('red')\n",
    "blue = Color('blue')\n",
    "# 5分割 [<Color red>, <Color yellow>, <Color lime>, <Color cyan>, <Color blue>]\n",
    "\n",
    "from bin.module import *\n",
    "import numpy as np\n",
    "from scipy import interpolate\n",
    "from scipy.spatial.distance import euclidean\n",
    "from fastdtw import fastdtw\n",
    "import astropy.io.fits as pyfits\n",
    "import matplotlib.pyplot as plt\n",
    "import pandas as pd\n",
    "import math\n",
    "import yaml\n",
    "import os,sys,glob,re, argparse\n",
    "import pandas as pd\n",
    "import astropy.io.fits as pyfits\n",
    "from astropy.time import Time\n",
    "import matplotlib.pyplot as plt\n",
    "from plotly.offline import init_notebook_mode, iplot_mpl\n",
    "import plotly.graph_objects as go\n",
    "import plotly.offline as offline\n",
    "from plotly.subplots import make_subplots"
   ]
  },
  {
   "cell_type": "markdown",
   "metadata": {},
   "source": [
    "### Function"
   ]
  },
  {
   "cell_type": "code",
   "execution_count": null,
   "metadata": {},
   "outputs": [],
   "source": [
    "def hardness(hard, soft):\n",
    "    return (hard-soft)/(hard+soft)"
   ]
  },
  {
   "cell_type": "code",
   "execution_count": null,
   "metadata": {},
   "outputs": [],
   "source": [
    "def hardness2(hard, soft):\n",
    "    hard += min(hard.min(), soft.min())\n",
    "    soft += min(hard.min(), soft.min())\n",
    "    return hard/soft"
   ]
  },
  {
   "cell_type": "code",
   "execution_count": null,
   "metadata": {},
   "outputs": [],
   "source": [
    "def get_hardness_error(hard, soft, hard_e, soft_e):\n",
    "    denomi = hard\n",
    "    nume = soft\n",
    "    denomi_e = hard_e\n",
    "    nume_e = soft_e\n",
    "    return np.sqrt((denomi_e/denomi)**2 + (nume_e*nume/denomi**2)**2)"
   ]
  },
  {
   "cell_type": "code",
   "execution_count": null,
   "metadata": {},
   "outputs": [],
   "source": [
    "def detection(mtime0, mrate0, period = 10, padding = 50):\n",
    "    \n",
    "    factor = 3.0\n",
    "    thrs = factor * np.std(mrate0) + np.mean(mrate0)\n",
    "    b_start=np.array([])\n",
    "    b_end=np.array([])\n",
    "    flag = True\n",
    "\n",
    "    for i in range(padding, len(mtime0)-period-padding):\n",
    "        ave = np.mean(mrate0[i:i+period])\n",
    "        if flag == True:\n",
    "            if ave > thrs:\n",
    "                b_start=np.append(b_start,i-padding)\n",
    "                flag = False\n",
    "        if flag == False:\n",
    "            if ave < np.std(mrate0) + np.mean(mrate0):\n",
    "                b_end = np.append(b_end,i+padding)\n",
    "                flag = True\n",
    "    \n",
    "    print(b_start)\n",
    "    print(b_end)\n",
    "\n",
    "    return b_start, b_end"
   ]
  },
  {
   "cell_type": "code",
   "execution_count": null,
   "metadata": {},
   "outputs": [],
   "source": [
    "def label_anomaly(tbl, target, yaml, padding=30):\n",
    "    _tbl = tbl\n",
    "    _tbl[\"MBURST0\"] = \"-1\" \n",
    "\n",
    "    b_start, b_end = detection(_tbl[\"TIME\"], _tbl[\"MRATE0\"], padding=padding)\n",
    "    # b_start, b_end = detection(_tbl[\"TIME\"], _tbl[\"MRATE0\"])\n",
    "\n",
    "    outburst_num = len(b_end)\n",
    "    # outburst_num = yaml[target][\"M_outburst#\"]\n",
    "\n",
    "    for j in range(0, outburst_num):\n",
    "        start = b_start[j]\n",
    "        end = b_end[j]\n",
    "\n",
    "        # start = yaml[target][f\"M{j}_MJD\"][0]\n",
    "        # end =  yaml[target][f\"M{j}_MJD\"][1] \n",
    "        _tbl.loc[start:end,\"MBURST0\"] = f\"{j}\"\n",
    "        # _tbl.loc[(_tbl[\"TIME\"]>=start)&(_tbl[\"TIME\"]<=end),\"MBURST0\"] = f\"{j}\"\n",
    "        print(start)\n",
    "        print(end)\n",
    "    try:\n",
    "        _tbl[\"SBURST0\"] = \"-1\" \n",
    "        _tbl.loc[(_tbl[\"TIME\"]>=start)&(_tbl[\"TIME\"]<=end),\"SBURST0\"] = f\"{j}\"\n",
    "    except KeyError:\n",
    "        print(\"No Swift data\")\n",
    "    return _tbl"
   ]
  },
  {
   "cell_type": "code",
   "execution_count": null,
   "metadata": {},
   "outputs": [],
   "source": [
    "def label_anomaly2(tbl, target, yaml):\n",
    "    _tbl = tbl\n",
    "    _tbl[\"MBURST0\"] = \"-1\" \n",
    "    outburst_num = yaml[target][\"M_outburst#\"]\n",
    "\n",
    "    for j in range(0, outburst_num):\n",
    "        start = yaml[target][f\"M{j}_MJD\"][0]\n",
    "        end =  yaml[target][f\"M{j}_MJD\"][1] \n",
    "        _tbl.loc[(_tbl[\"TIME\"]>=start)&(_tbl[\"TIME\"]<=end),\"MBURST0\"] = f\"{j}\"\n",
    "        print(start)\n",
    "        print(end)\n",
    "    try:\n",
    "        _tbl[\"SBURST0\"] = \"-1\" \n",
    "        _tbl.loc[(_tbl[\"TIME\"]>=start)&(_tbl[\"TIME\"]<=end),\"SBURST0\"] = f\"{j}\"\n",
    "    except KeyError:\n",
    "        print(\"No Swift data\")\n",
    "    return _tbl"
   ]
  },
  {
   "cell_type": "code",
   "execution_count": null,
   "metadata": {},
   "outputs": [],
   "source": [
    "def tbl_hardness(tbl):\n",
    "    _tbl = tbl\n",
    "    _tbl[\"MHARDNESS\"] = _tbl[\"MRATE1\"]/_tbl[\"MRATE0\"]\n",
    "    _tbl[\"MHARDNESS_ERROR\"] = get_hardness_error(_tbl[\"MRATE1\"], _tbl[\"MRATE0\"], _tbl[\"MERROR1\"], _tbl[\"MERROR0\"])\n",
    "    _tbl.loc[_tbl[\"MRATE0\"]<0, \"MHARDNESS\"] = np.nan\n",
    "    _tbl.loc[_tbl[\"MRATE1\"]<0, \"MHARDNESS\"] = np.nan\n",
    "    _tbl.loc[_tbl[\"MRATE0\"]<0, \"MHARDNESS_ERROR\"] = np.nan\n",
    "    _tbl.loc[_tbl[\"MRATE1\"]<0, \"MHARDNESS_ERROR\"] = np.nan\n",
    "\n",
    "    return _tbl"
   ]
  },
  {
   "cell_type": "code",
   "execution_count": null,
   "metadata": {},
   "outputs": [],
   "source": [
    "def minimax(x):\n",
    "    return (x - x.min())/(x.max()-x.min())"
   ]
  },
  {
   "cell_type": "markdown",
   "metadata": {},
   "source": [
    "### main"
   ]
  },
  {
   "cell_type": "code",
   "execution_count": null,
   "metadata": {},
   "outputs": [],
   "source": [
    "PATH_yaml = \"/home/kurihara/2_lc_similarity/BATSURVEY/catalog/objects.yaml\"\n",
    "with open(PATH_yaml, 'r') as yml:\n",
    "    b = yaml.safe_load(yml)\n",
    "\n",
    "b   "
   ]
  },
  {
   "cell_type": "code",
   "execution_count": null,
   "metadata": {},
   "outputs": [],
   "source": [
    "obj_list = pd.read_csv(\"/home/kurihara/2_lc_similarity/BATSURVEY/catalog/newest_list.csv\")\n",
    "obj_list"
   ]
  },
  {
   "cell_type": "code",
   "execution_count": null,
   "metadata": {},
   "outputs": [],
   "source": [
    "fig = make_subplots(rows=len(obj_list), cols = 1, subplot_titles=obj_list.loc[:,\"target\"] )\n",
    "fig.update_layout(width = 1200, height = 3000)\n",
    "\n",
    "for num in range(0, 3):\n",
    "# for num in range(len(obj_list)):\n",
    "    target = obj_list.loc[num, \"target\"]\n",
    "    _tbl = label_anomaly(make_table0(target), target, b)\n",
    "    # _tbl = label_anomaly2(make_table0(target), target, b)\n",
    "    # _tbl = make_table0(target)\n",
    "\n",
    "    # tr = get_trace(_tbl[\"TIME\"], _tbl[\"SRATE0\"], _tbl[\"SERROR0\"], c_num=6, s_num=2, name=f\"{obj_list.loc[num,'target']}_S\")\n",
    "    # fig.add_trace(tr, row=num+1, col=1)    \n",
    "\n",
    "    # tr = get_trace(_tbl[\"TIME\"], _tbl[\"MRATE1\"], _tbl[\"MERROR1\"], c_num=1, s_num=0, name=f\"{obj_list.loc[num,'target']}_Mh\")\n",
    "    # fig.add_trace(tr, row=num+1, col=1)\n",
    "\n",
    "    tr = get_trace(_tbl[\"TIME\"], _tbl[\"MRATE0\"], _tbl[\"MERROR0\"], c_num=3, s_num=1, name=f\"{obj_list.loc[num,'target']}_Ms\")\n",
    "    fig.add_trace(tr, row=num+1, col=1)\n",
    "\n",
    "    tr = get_trace(_tbl.loc[_tbl[\"MBURST0\"]!=str(-1), \"TIME\"], _tbl.loc[_tbl[\"MBURST0\"]!=str(-1), \"MRATE0\"], _tbl.loc[_tbl[\"MBURST0\"]!=str(-1), \"MERROR0\"], c_num=8, s_num=4, name=f\"{obj_list.loc[num,'target']}_Ms_burst\")\n",
    "    fig.add_trace(tr, row=num+1, col=1)\n",
    "\n",
    "fig.show()\n",
    "# fig.write_html(\"/home/kurihara/2_lc_similarity/BATSURVEY/output/maxi/Analysis/20220510/burst_period_3.html\")\n",
    "# fig.write_html(\"/home/kurihara/2_lc_similarity/BATSURVEY/output/maxi/Analysis/20220510/burst_period_DTW.html\")\n"
   ]
  },
  {
   "cell_type": "code",
   "execution_count": null,
   "metadata": {},
   "outputs": [],
   "source": [
    "_tbl"
   ]
  },
  {
   "cell_type": "markdown",
   "metadata": {},
   "source": [
    "### for hardness"
   ]
  },
  {
   "cell_type": "code",
   "execution_count": null,
   "metadata": {},
   "outputs": [],
   "source": [
    "_tbl.loc[(_tbl[\"MRATE0\"]-_tbl[\"MRATE0\"].mean())>fac*_tbl[\"MRATE0\"].std(), \"TIME\"]"
   ]
  },
  {
   "cell_type": "code",
   "execution_count": null,
   "metadata": {},
   "outputs": [],
   "source": [
    "fac = 0.75\n",
    "fig = make_subplots(rows=len(obj_list), cols = 1, subplot_titles=obj_list.loc[:,\"target\"] )\n",
    "fig.update_layout(width = 1600, height = 3200, title = \"Positive counts (for Hardness ratio)\")\n",
    "\n",
    "for num in range(len(obj_list)):\n",
    "    target = obj_list.loc[num, \"target\"]\n",
    "    _tbl = tbl_hardness(label_anomaly(make_table0(target), target, b))\n",
    "    # _tbl = label_anomaly2(make_table0(target), target, b)\n",
    "    # _tbl = make_table0(target)\n",
    "\n",
    "    # tr = get_trace(_tbl[\"TIME\"], _tbl[\"SRATE0\"], _tbl[\"SERROR0\"], c_num=6, s_num=2, name=f\"{obj_list.loc[num,'target']}_S\")\n",
    "    # fig.add_trace(tr, row=num+1, col=1)    \n",
    "\n",
    "    # tr = get_trace(_tbl[\"TIME\"], _tbl[\"MRATE1\"], _tbl[\"MERROR1\"], c_num=1, s_num=0, name=f\"{obj_list.loc[num,'target']}_Mh\")\n",
    "    # fig.add_trace(tr, row=num+1, col=1)\n",
    "\n",
    "    tr = get_trace(_tbl[\"TIME\"], _tbl[\"MRATE0\"], _tbl[\"MERROR0\"], c_num=3, s_num=1, name=f\"{obj_list.loc[num,'target']}_Ms\")\n",
    "    fig.add_trace(tr, row=num+1, col=1)\n",
    "\n",
    "    tr = get_trace(_tbl.loc[_tbl[\"MHARDNESS\"].isnull()==False, \"TIME\"], _tbl.loc[_tbl[\"MHARDNESS\"].isnull()==False, \"MRATE0\"], _tbl.loc[_tbl[\"MHARDNESS\"].isnull()==False, \"MERROR0\"], c_num=8, s_num=4, name=f\"{obj_list.loc[num,'target']}_Ms_forHI\")\n",
    "    fig.add_trace(tr, row=num+1, col=1)\n",
    "\n",
    "    tr = get_trace(_tbl.loc[(_tbl[\"MRATE0\"]-_tbl[\"MRATE0\"].mean())>fac*_tbl[\"MRATE0\"].std(), \"TIME\"], _tbl.loc[(_tbl[\"MRATE0\"]-_tbl[\"MRATE0\"].mean())>fac*_tbl[\"MRATE0\"].std(), \"MRATE0\"],\n",
    "     _tbl.loc[(_tbl[\"MRATE0\"]-_tbl[\"MRATE0\"].mean())>fac*_tbl[\"MRATE0\"].std(), \"MERROR0\"], c_num=0, s_num=2, name=f\"{obj_list.loc[num,'target']}_Ms_forHI_>{fac}\")\n",
    "    fig.add_trace(tr, row=num+1, col=1)\n",
    "\n",
    "fig.show()\n",
    "fig.write_html(f\"/home/kurihara/2_lc_similarity/BATSURVEY/output/maxi/Analysis/{today}/maxi_lc_positive_{fac}.html\")\n",
    "fig.write_html(f\"/home/kurihara/2_lc_similarity/BATSURVEY/Ana_lc/{today}/maxi_lc_positive_{fac}.html\")\n",
    "\n"
   ]
  },
  {
   "cell_type": "code",
   "execution_count": null,
   "metadata": {},
   "outputs": [],
   "source": [
    "np.random.rand(500)"
   ]
  },
  {
   "cell_type": "code",
   "execution_count": null,
   "metadata": {},
   "outputs": [],
   "source": [
    "fac = 0.75\n",
    "fig = make_subplots(rows=len(obj_list)//4 +1, cols = 4, subplot_titles=obj_list.loc[:,\"target\"] )\n",
    "fig.update_layout(width = 3000, height = 5000, title = f\"Hardness v.s. Intensity (>{fac} sigma)\", template=\"presentation\")\n",
    "# fig.update_layout(width = 3000, height = 3000, title = \"Hardness v.s. Intensity\", showlegend=False)\n",
    "\n",
    "# for num in range(4):\n",
    "for num in range(len(obj_list)):\n",
    "    target = obj_list.loc[num, \"target\"]\n",
    "    _tbl = tbl_hardness(label_anomaly(make_table0(target), target, b))\n",
    "\n",
    "    tr = get_trace(_tbl[\"MHARDNESS\"], _tbl[\"INTENSITY\"], _tbl[\"INT_ERROR\"], c_num=8, s_num=4, name=f\"{obj_list.loc[num,'target']}_M_HI\")\n",
    "    fig.add_trace(tr, row=(num)//4+1, col=(num)%4 +1)\n",
    "\n",
    "    trace_burst= go.Scattergl(\n",
    "        x=_tbl.loc[(_tbl[\"MRATE0\"]-_tbl[\"MRATE0\"].mean())>fac*_tbl[\"MRATE0\"].std(), \"MHARDNESS\"],\n",
    "        # error_x = dict(array=xe),\n",
    "        y=_tbl.loc[(_tbl[\"MRATE0\"]-_tbl[\"MRATE0\"].mean())>fac*_tbl[\"MRATE0\"].std(), \"INTENSITY\"],\n",
    "        error_y=dict(array= _tbl.loc[(_tbl[\"MRATE0\"]-_tbl[\"MRATE0\"].mean())>fac*_tbl[\"MRATE0\"].std(), \"INT_ERROR\"]), \n",
    "        mode = \"markers\",\n",
    "        marker=dict(color=minimax(_tbl.loc[(_tbl[\"MRATE0\"]-_tbl[\"MRATE0\"].mean())>fac*_tbl[\"MRATE0\"].std(), \"TIME\"]).values,\n",
    "                colorscale=\"RdBu\", showscale=True),\n",
    "        name=f\"{obj_list.loc[num,'target']}_M_HI_burst\"\n",
    "        )\n",
    "    fig.add_trace(trace_burst, row=(num)//4+1, col=(num)%4 +1)\n",
    "\n",
    "    # tr = get_trace(_tbl.loc[(_tbl[\"MRATE0\"]-_tbl[\"MRATE0\"].mean())>fac*_tbl[\"MRATE0\"].std(), \"MHARDNESS\"], _tbl.loc[(_tbl[\"MRATE0\"]-_tbl[\"MRATE0\"].mean())>fac*_tbl[\"MRATE0\"].std(), \"INTENSITY\"],\n",
    "    #  _tbl.loc[(_tbl[\"MRATE0\"]-_tbl[\"MRATE0\"].mean())>fac*_tbl[\"MRATE0\"].std(), \"INT_ERROR\"], c_num=8, s_num=2, name=f\"{obj_list.loc[num,'target']}_M_HI_burst\")\n",
    "    # fig.add_trace(tr, row=(num)//4+1, col=(num)%4 +1)\n",
    "\n",
    "    fig.update_yaxes(title='X-ray Intensity (counts/sm^2/sec)', ticks='inside', type=\"log\")\n",
    "    fig.update_xaxes(title='Hardness (MAXI hard & MAXI soft)', ticks='inside', type=\"log\")\n",
    "\n",
    "fig.show()\n",
    "fig.write_html(f\"/home/kurihara/2_lc_similarity/BATSURVEY/output/maxi/Analysis/{today}/HI_{fac}_color.html\")\n",
    "# fig.write_html(f\"/home/kurihara/2_lc_similarity/BATSURVEY/output/maxi/Analysis/{today}/HI_{fac.replace(\".\",\"-\")}.html\")\n",
    "fig.write_html(f\"/home/kurihara/2_lc_similarity/BATSURVEY/Ana_lc/{today}/HI_{fac}_color.html\")\n",
    "# fig.write_html(f\"/home/kurihara/2_lc_similarity/BATSURVEY/Ana_lc/{today}/HI_{fac.replace(\".\",\"-\")}.html\")\n",
    "\n"
   ]
  },
  {
   "cell_type": "code",
   "execution_count": null,
   "metadata": {},
   "outputs": [],
   "source": [
    "_tbl.loc[_tbl[\"MRATE0\"]<0, \"MHARDNESS\"].isnull()\n",
    "# _tbl.loc[_tbl[\"MRATE0\"]<0, \"MRATE0\"]"
   ]
  },
  {
   "cell_type": "code",
   "execution_count": null,
   "metadata": {},
   "outputs": [],
   "source": [
    "_tbl.loc[_tbl[\"MHARDNESS\"].isnull()==False]"
   ]
  },
  {
   "cell_type": "code",
   "execution_count": null,
   "metadata": {},
   "outputs": [],
   "source": []
  }
 ],
 "metadata": {
  "interpreter": {
   "hash": "31f2aee4e71d21fbe5cf8b01ff0e069b9275f58929596ceb00d14d90e3e16cd6"
  },
  "kernelspec": {
   "display_name": "Python 3.8.10 64-bit",
   "language": "python",
   "name": "python3"
  },
  "language_info": {
   "codemirror_mode": {
    "name": "ipython",
    "version": 3
   },
   "file_extension": ".py",
   "mimetype": "text/x-python",
   "name": "python",
   "nbconvert_exporter": "python",
   "pygments_lexer": "ipython3",
   "version": "3.8.10"
  },
  "orig_nbformat": 4
 },
 "nbformat": 4,
 "nbformat_minor": 2
}
